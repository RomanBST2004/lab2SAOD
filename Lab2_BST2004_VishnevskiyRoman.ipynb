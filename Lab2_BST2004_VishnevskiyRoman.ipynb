{
 "cells": [
  {
   "cell_type": "markdown",
   "id": "a6cea719",
   "metadata": {},
   "source": [
    "# Лабораторная работа №2 «Методы поиска»\n",
    "## по дисциплине «Структуры и алгоритмы обработки данных»\n",
    "## Выполнил студент группы БСТ2004 Вишневский Роман Дмитриевич, Вариант №2\n",
    "## Проверил: Чайка А.Д.\n",
    "### Цель работы: изучение основных методов поиска на языке Python"
   ]
  },
  {
   "cell_type": "markdown",
   "id": "27a85839",
   "metadata": {},
   "source": [
    "### Задание №1-2\n",
    "Реализовать методы поиска в соответствии с заданием. Организовать генерацию начального набора случайных данных. Для всех вариантов добавить реализацию добавления, поиска и удаления элементов. Оценить время работы каждого алгоритма поиска и сравнить его со временем работы стандартной функции поиска, используемой в выбранном языке программирования. Методы:\n",
    "Бинарный поиск,\tБинарное дерево, Фибоначчиев, Интерполяционный\n",
    "Простое рехэширование, Рехэширование с помощью псевдослучайных чисел, Метод цепочек\n"
   ]
  },
  {
   "cell_type": "code",
   "execution_count": 27,
   "id": "d9df1851",
   "metadata": {
    "scrolled": true
   },
   "outputs": [
    {
     "name": "stdout",
     "output_type": "stream",
     "text": [
      "Initial array:\n",
      "[9, 2, 2, 3, 4, 7, 9, 7, 8, 6]\n"
     ]
    }
   ],
   "source": [
    "import random # импорт библиотеки для генерации случайных чисел\n",
    "import time # импорт библиотеки для проведения замеров\n",
    "import array as arr \n",
    "n = 10\n",
    "array = [random.randint(1, 9) for i in range(n)] # генерация двумерного массива\n",
    "\n",
    "print('Initial array:')\n",
    "print(array)\n",
    "\n",
    "delete = int(input())\n",
    "del array[delete]    \n",
    "print(array)\n",
    "\n",
    "index = int(input())\n",
    "value = int(input())\n",
    "array.insert(index, value)\n",
    "print(array)"
   ]
  },
  {
   "cell_type": "code",
   "execution_count": 28,
   "id": "5ce19f9a",
   "metadata": {},
   "outputs": [
    {
     "name": "stdout",
     "output_type": "stream",
     "text": [
      "ID = 2\n"
     ]
    }
   ],
   "source": [
    "# БИНАРНЫЙ ПОИСК\n",
    "def binary_search(array, value):\n",
    "\n",
    "    mid = len(array) // 2 # индекс среднего эл-та\n",
    "    low = 0               # нижняя граница\n",
    "    high = len(array) - 1 # верхняя граница\n",
    "\n",
    "    # пока не найден нужный эл-т и границы не схлопнулись\n",
    "    while array[mid] != value and low <= high:\n",
    "        if value > array[mid]:\n",
    "            low = mid + 1\n",
    "        else:\n",
    "            high = mid - 1\n",
    "        mid = (low + high) // 2\n",
    "\n",
    "    if low > high:\n",
    "        print(\"Искомого числа в массиве нет\")\n",
    "    else:\n",
    "        print(\"ID =\", mid)\n",
    "binary_search(array, 2)"
   ]
  },
  {
   "cell_type": "code",
   "execution_count": 31,
   "id": "141a57d4",
   "metadata": {},
   "outputs": [
    {
     "name": "stdout",
     "output_type": "stream",
     "text": [
      "7\n"
     ]
    }
   ],
   "source": [
    "# Фибоначчи ПОИСК\n",
    "def FibonacciSearch(lys, val):\n",
    "    fibM_minus_2 = 0\n",
    "    fibM_minus_1 = 1\n",
    "    fibM = fibM_minus_1 + fibM_minus_2\n",
    "    while (fibM < len(lys)):\n",
    "        fibM_minus_2 = fibM_minus_1\n",
    "        fibM_minus_1 = fibM\n",
    "        fibM = fibM_minus_1 + fibM_minus_2\n",
    "    index = -1;\n",
    "    while (fibM > 1):\n",
    "        i = min(index + fibM_minus_2, (len(lys)-1))\n",
    "        if (lys[i] < val):\n",
    "            fibM = fibM_minus_1\n",
    "            fibM_minus_1 = fibM_minus_2\n",
    "            fibM_minus_2 = fibM - fibM_minus_1\n",
    "            index = i\n",
    "        elif (lys[i] > val):\n",
    "            fibM = fibM_minus_2\n",
    "            fibM_minus_1 = fibM_minus_1 - fibM_minus_2\n",
    "            fibM_minus_2 = fibM - fibM_minus_1\n",
    "        else :\n",
    "            return i\n",
    "    if(fibM_minus_1 and index < (len(lys)-1) and lys[index+1] == val):\n",
    "        return index+1;\n",
    "    return -1\n",
    "\n",
    "print(FibonacciSearch(array, 7))"
   ]
  },
  {
   "cell_type": "code",
   "execution_count": 56,
   "id": "d1907963",
   "metadata": {},
   "outputs": [
    {
     "name": "stdout",
     "output_type": "stream",
     "text": [
      "Искомого числа в массиве нет\n"
     ]
    }
   ],
   "source": [
    "# Интерполяционный  ПОИСК\n",
    "def InterpolationSearch(array, value):\n",
    "    low = 0\n",
    "    high = (len(array) - 1)\n",
    "    if low <= high and value >= array[low] and value <= array[high]:\n",
    "        # вероятный индекс искомого элемента.\n",
    "        # Он вычисляется как более высокое значение,\n",
    "        # когда значение val ближе по значению к элементу в конце массива (array[high]),\n",
    "        # и более низкое, когда значение val ближе по значению к элементу в начале массива (array[low]).\n",
    "        index = low + \\\n",
    "            int(((float(high - low) /\n",
    "                (array[high] - array[low])) * (value - array[low])))\n",
    "        if array[index] == value:\n",
    "            print(\"ID =\", index)\n",
    "        if array[index] < value:\n",
    "            low = index + 1\n",
    "        else:\n",
    "            high = index - 1\n",
    "    else:\n",
    "        print(\"Искомого числа в массиве нет\")\n",
    "InterpolationSearch(array, 1)"
   ]
  },
  {
   "cell_type": "code",
   "execution_count": 52,
   "id": "1e8cb2d6",
   "metadata": {},
   "outputs": [
    {
     "name": "stdout",
     "output_type": "stream",
     "text": [
      "Исходный массив [2, 2, 16, 18, 23, 28, 31, 36, 42, 47]\n",
      "В наличии\n",
      "В наличии\n"
     ]
    }
   ],
   "source": [
    "# Бинарное дерево  ПОИСК\n",
    "import random\n",
    "\n",
    "from sqlalchemy import true\n",
    "random.seed(113)\n",
    "\n",
    "# Инициализация и заполение массива рандомными числами\n",
    "A = []\n",
    "for i in range(10):\n",
    "    A.append(random.randint(1, 50))\n",
    "A.sort()\n",
    "print(\"Исходный массив\", A)\n",
    "\n",
    "\n",
    "class TreeNode:\n",
    "    def __init__(self, data, left=None, right=None):\n",
    "        self.data = data\n",
    "        self.left = left\n",
    "        self.right = right\n",
    "\n",
    "\n",
    "def height(root):\n",
    "    if root is None:\n",
    "        return 0\n",
    "    else:\n",
    "        # Compute the height of left and right subtree\n",
    "        l_height = height(root.left)\n",
    "        r_height = height(root.right)\n",
    "        # Find the greater one, and return it\n",
    "        if l_height > r_height:\n",
    "            return l_height+1\n",
    "        else:\n",
    "            return r_height+1\n",
    "\n",
    "\n",
    "def search(root, value):\n",
    "    # node is empty\n",
    "    if root is None:\n",
    "        return False\n",
    "    # if element is equal to the element to be searched\n",
    "    elif root.data == value:\n",
    "        print(\"В наличии\")\n",
    "        return True\n",
    "    # element to be searched is less than the current node\n",
    "    elif root.data > value:\n",
    "        return search(root.left, value)\n",
    "    # element to be searched is greater than the current node\n",
    "    else:\n",
    "        return search(root.right, value)\n",
    "\n",
    "\n",
    "\n",
    "\n",
    "def searchAtGivenLevel(root, level, search_elem):\n",
    "    if root is None:\n",
    "        return\n",
    "    if level == 1:\n",
    "        search(root, search_elem)\n",
    "        # print(root.data, end=',')\n",
    "    elif level > 1:\n",
    "        searchAtGivenLevel(root.left, level-1, search_elem)\n",
    "        searchAtGivenLevel(root.right, level-1, search_elem)\n",
    "\n",
    "def print_given_level(root, level):\n",
    "    if root is None:\n",
    "        return\n",
    "    if level == 1:\n",
    "        print(root.data,end = ',')\n",
    "    elif level > 1 :\n",
    "        print_given_level(root.left , level-1)\n",
    "        print_given_level(root.right , level-1)\n",
    "\n",
    "def level_order(root):\n",
    "    print('[', end = '')\n",
    "    h = height(root)\n",
    "    for i in range(1, h+1):\n",
    "        print_given_level(root, i)\n",
    "    print(']')\n",
    "\n",
    "def search_level_order(root, search_elem):\n",
    "\n",
    "    h = height(root)\n",
    "    for i in range(1, h+1):\n",
    "        searchAtGivenLevel(root, i, search_elem)\n",
    "\n",
    "\n",
    "class Solution(object):\n",
    "    def sortedArrayToBST(self, nums):\n",
    "        \"\"\"\n",
    "        :type nums: List[int]\n",
    "        :rtype: TreeNode\n",
    "        \"\"\"\n",
    "        if not nums:\n",
    "            return None\n",
    "        mid = nums[len(nums)//2]\n",
    "        root = TreeNode(mid)\n",
    "        root.left = self.sortedArrayToBST(nums[:len(nums)//2])\n",
    "        root.right = self.sortedArrayToBST(nums[len(nums)//2 + 1:])\n",
    "        return root\n",
    "\n",
    "\n",
    "nums = A\n",
    "ob1 = Solution()\n",
    "bst = ob1.sortedArrayToBST(nums)\n",
    "search_elem = 16\n",
    "search_level_order(bst, search_elem)"
   ]
  },
  {
   "cell_type": "code",
   "execution_count": 12,
   "id": "023fd767",
   "metadata": {},
   "outputs": [
    {
     "name": "stdout",
     "output_type": "stream",
     "text": [
      ".Ф......\n",
      "...Ф....\n",
      ".....Ф..\n",
      ".......Ф\n",
      "Ф.......\n",
      "..Ф.....\n",
      "....Ф...\n",
      "......Ф.\n"
     ]
    }
   ],
   "source": [
    "# queens\n",
    "n = 8\n",
    " \n",
    "field = [['.'] * n for _ in range(n)]\n",
    "j = 0 if n % 2 else 1\n",
    "\n",
    "for i in range(n):\n",
    "    field[i][j] = 'Ф'\n",
    "    j = (j + 2) % n\n",
    "    if (n % 2) == 0 and i == abs((n // 2) - 1):\n",
    "        j -= 1\n",
    "\n",
    "for row in field:\n",
    "    print(''.join(row))\n"
   ]
  },
  {
   "cell_type": "code",
   "execution_count": 2,
   "id": "9174e0df",
   "metadata": {
    "scrolled": true
   },
   "outputs": [
    {
     "name": "stdout",
     "output_type": "stream",
     "text": [
      "(1, 1) (2, 5) (3, 8) (4, 6) (5, 3) (6, 7) (7, 2) (8, 4)\n",
      "(1, 1) (2, 6) (3, 8) (4, 3) (5, 7) (6, 4) (7, 2) (8, 5)\n",
      "(1, 1) (2, 7) (3, 4) (4, 6) (5, 8) (6, 2) (7, 5) (8, 3)\n",
      "(1, 1) (2, 7) (3, 5) (4, 8) (5, 2) (6, 4) (7, 6) (8, 3)\n",
      "(1, 2) (2, 4) (3, 6) (4, 8) (5, 3) (6, 1) (7, 7) (8, 5)\n",
      "(1, 2) (2, 5) (3, 7) (4, 1) (5, 3) (6, 8) (7, 6) (8, 4)\n",
      "(1, 2) (2, 5) (3, 7) (4, 4) (5, 1) (6, 8) (7, 6) (8, 3)\n",
      "(1, 2) (2, 6) (3, 1) (4, 7) (5, 4) (6, 8) (7, 3) (8, 5)\n",
      "(1, 2) (2, 6) (3, 8) (4, 3) (5, 1) (6, 4) (7, 7) (8, 5)\n",
      "(1, 2) (2, 7) (3, 3) (4, 6) (5, 8) (6, 5) (7, 1) (8, 4)\n",
      "(1, 2) (2, 7) (3, 5) (4, 8) (5, 1) (6, 4) (7, 6) (8, 3)\n",
      "(1, 2) (2, 8) (3, 6) (4, 1) (5, 3) (6, 5) (7, 7) (8, 4)\n",
      "(1, 3) (2, 1) (3, 7) (4, 5) (5, 8) (6, 2) (7, 4) (8, 6)\n",
      "(1, 3) (2, 5) (3, 2) (4, 8) (5, 1) (6, 7) (7, 4) (8, 6)\n",
      "(1, 3) (2, 5) (3, 2) (4, 8) (5, 6) (6, 4) (7, 7) (8, 1)\n",
      "(1, 3) (2, 5) (3, 7) (4, 1) (5, 4) (6, 2) (7, 8) (8, 6)\n",
      "(1, 3) (2, 5) (3, 8) (4, 4) (5, 1) (6, 7) (7, 2) (8, 6)\n",
      "(1, 3) (2, 6) (3, 2) (4, 5) (5, 8) (6, 1) (7, 7) (8, 4)\n",
      "(1, 3) (2, 6) (3, 2) (4, 7) (5, 1) (6, 4) (7, 8) (8, 5)\n",
      "(1, 3) (2, 6) (3, 2) (4, 7) (5, 5) (6, 1) (7, 8) (8, 4)\n",
      "(1, 3) (2, 6) (3, 4) (4, 1) (5, 8) (6, 5) (7, 7) (8, 2)\n",
      "(1, 3) (2, 6) (3, 4) (4, 2) (5, 8) (6, 5) (7, 7) (8, 1)\n",
      "(1, 3) (2, 6) (3, 8) (4, 1) (5, 4) (6, 7) (7, 5) (8, 2)\n",
      "(1, 3) (2, 6) (3, 8) (4, 1) (5, 5) (6, 7) (7, 2) (8, 4)\n",
      "(1, 3) (2, 6) (3, 8) (4, 2) (5, 4) (6, 1) (7, 7) (8, 5)\n",
      "(1, 3) (2, 7) (3, 2) (4, 8) (5, 5) (6, 1) (7, 4) (8, 6)\n",
      "(1, 3) (2, 7) (3, 2) (4, 8) (5, 6) (6, 4) (7, 1) (8, 5)\n",
      "(1, 3) (2, 8) (3, 4) (4, 7) (5, 1) (6, 6) (7, 2) (8, 5)\n",
      "(1, 4) (2, 1) (3, 5) (4, 8) (5, 2) (6, 7) (7, 3) (8, 6)\n",
      "(1, 4) (2, 1) (3, 5) (4, 8) (5, 6) (6, 3) (7, 7) (8, 2)\n",
      "(1, 4) (2, 2) (3, 5) (4, 8) (5, 6) (6, 1) (7, 3) (8, 7)\n",
      "(1, 4) (2, 2) (3, 7) (4, 3) (5, 6) (6, 8) (7, 1) (8, 5)\n",
      "(1, 4) (2, 2) (3, 7) (4, 3) (5, 6) (6, 8) (7, 5) (8, 1)\n",
      "(1, 4) (2, 2) (3, 7) (4, 5) (5, 1) (6, 8) (7, 6) (8, 3)\n",
      "(1, 4) (2, 2) (3, 8) (4, 5) (5, 7) (6, 1) (7, 3) (8, 6)\n",
      "(1, 4) (2, 2) (3, 8) (4, 6) (5, 1) (6, 3) (7, 5) (8, 7)\n",
      "(1, 4) (2, 6) (3, 1) (4, 5) (5, 2) (6, 8) (7, 3) (8, 7)\n",
      "(1, 4) (2, 6) (3, 8) (4, 2) (5, 7) (6, 1) (7, 3) (8, 5)\n",
      "(1, 4) (2, 6) (3, 8) (4, 3) (5, 1) (6, 7) (7, 5) (8, 2)\n",
      "(1, 4) (2, 7) (3, 1) (4, 8) (5, 5) (6, 2) (7, 6) (8, 3)\n",
      "(1, 4) (2, 7) (3, 3) (4, 8) (5, 2) (6, 5) (7, 1) (8, 6)\n",
      "(1, 4) (2, 7) (3, 5) (4, 2) (5, 6) (6, 1) (7, 3) (8, 8)\n",
      "(1, 4) (2, 7) (3, 5) (4, 3) (5, 1) (6, 6) (7, 8) (8, 2)\n",
      "(1, 4) (2, 8) (3, 1) (4, 3) (5, 6) (6, 2) (7, 7) (8, 5)\n",
      "(1, 4) (2, 8) (3, 1) (4, 5) (5, 7) (6, 2) (7, 6) (8, 3)\n",
      "(1, 4) (2, 8) (3, 5) (4, 3) (5, 1) (6, 7) (7, 2) (8, 6)\n",
      "(1, 5) (2, 1) (3, 4) (4, 6) (5, 8) (6, 2) (7, 7) (8, 3)\n",
      "(1, 5) (2, 1) (3, 8) (4, 4) (5, 2) (6, 7) (7, 3) (8, 6)\n",
      "(1, 5) (2, 1) (3, 8) (4, 6) (5, 3) (6, 7) (7, 2) (8, 4)\n",
      "(1, 5) (2, 2) (3, 4) (4, 6) (5, 8) (6, 3) (7, 1) (8, 7)\n",
      "(1, 5) (2, 2) (3, 4) (4, 7) (5, 3) (6, 8) (7, 6) (8, 1)\n",
      "(1, 5) (2, 2) (3, 6) (4, 1) (5, 7) (6, 4) (7, 8) (8, 3)\n",
      "(1, 5) (2, 2) (3, 8) (4, 1) (5, 4) (6, 7) (7, 3) (8, 6)\n",
      "(1, 5) (2, 3) (3, 1) (4, 6) (5, 8) (6, 2) (7, 4) (8, 7)\n",
      "(1, 5) (2, 3) (3, 1) (4, 7) (5, 2) (6, 8) (7, 6) (8, 4)\n",
      "(1, 5) (2, 3) (3, 8) (4, 4) (5, 7) (6, 1) (7, 6) (8, 2)\n",
      "(1, 5) (2, 7) (3, 1) (4, 3) (5, 8) (6, 6) (7, 4) (8, 2)\n",
      "(1, 5) (2, 7) (3, 1) (4, 4) (5, 2) (6, 8) (7, 6) (8, 3)\n",
      "(1, 5) (2, 7) (3, 2) (4, 4) (5, 8) (6, 1) (7, 3) (8, 6)\n",
      "(1, 5) (2, 7) (3, 2) (4, 6) (5, 3) (6, 1) (7, 4) (8, 8)\n",
      "(1, 5) (2, 7) (3, 2) (4, 6) (5, 3) (6, 1) (7, 8) (8, 4)\n",
      "(1, 5) (2, 7) (3, 4) (4, 1) (5, 3) (6, 8) (7, 6) (8, 2)\n",
      "(1, 5) (2, 8) (3, 4) (4, 1) (5, 3) (6, 6) (7, 2) (8, 7)\n",
      "(1, 5) (2, 8) (3, 4) (4, 1) (5, 7) (6, 2) (7, 6) (8, 3)\n",
      "(1, 6) (2, 1) (3, 5) (4, 2) (5, 8) (6, 3) (7, 7) (8, 4)\n",
      "(1, 6) (2, 2) (3, 7) (4, 1) (5, 3) (6, 5) (7, 8) (8, 4)\n",
      "(1, 6) (2, 2) (3, 7) (4, 1) (5, 4) (6, 8) (7, 5) (8, 3)\n",
      "(1, 6) (2, 3) (3, 1) (4, 7) (5, 5) (6, 8) (7, 2) (8, 4)\n",
      "(1, 6) (2, 3) (3, 1) (4, 8) (5, 4) (6, 2) (7, 7) (8, 5)\n",
      "(1, 6) (2, 3) (3, 1) (4, 8) (5, 5) (6, 2) (7, 4) (8, 7)\n",
      "(1, 6) (2, 3) (3, 5) (4, 7) (5, 1) (6, 4) (7, 2) (8, 8)\n",
      "(1, 6) (2, 3) (3, 5) (4, 8) (5, 1) (6, 4) (7, 2) (8, 7)\n",
      "(1, 6) (2, 3) (3, 7) (4, 2) (5, 4) (6, 8) (7, 1) (8, 5)\n",
      "(1, 6) (2, 3) (3, 7) (4, 2) (5, 8) (6, 5) (7, 1) (8, 4)\n",
      "(1, 6) (2, 3) (3, 7) (4, 4) (5, 1) (6, 8) (7, 2) (8, 5)\n",
      "(1, 6) (2, 4) (3, 1) (4, 5) (5, 8) (6, 2) (7, 7) (8, 3)\n",
      "(1, 6) (2, 4) (3, 2) (4, 8) (5, 5) (6, 7) (7, 1) (8, 3)\n",
      "(1, 6) (2, 4) (3, 7) (4, 1) (5, 3) (6, 5) (7, 2) (8, 8)\n",
      "(1, 6) (2, 4) (3, 7) (4, 1) (5, 8) (6, 2) (7, 5) (8, 3)\n",
      "(1, 6) (2, 8) (3, 2) (4, 4) (5, 1) (6, 7) (7, 5) (8, 3)\n",
      "(1, 7) (2, 1) (3, 3) (4, 8) (5, 6) (6, 4) (7, 2) (8, 5)\n",
      "(1, 7) (2, 2) (3, 4) (4, 1) (5, 8) (6, 5) (7, 3) (8, 6)\n",
      "(1, 7) (2, 2) (3, 6) (4, 3) (5, 1) (6, 4) (7, 8) (8, 5)\n",
      "(1, 7) (2, 3) (3, 1) (4, 6) (5, 8) (6, 5) (7, 2) (8, 4)\n",
      "(1, 7) (2, 3) (3, 8) (4, 2) (5, 5) (6, 1) (7, 6) (8, 4)\n",
      "(1, 7) (2, 4) (3, 2) (4, 5) (5, 8) (6, 1) (7, 3) (8, 6)\n",
      "(1, 7) (2, 4) (3, 2) (4, 8) (5, 6) (6, 1) (7, 3) (8, 5)\n",
      "(1, 7) (2, 5) (3, 3) (4, 1) (5, 6) (6, 8) (7, 2) (8, 4)\n",
      "(1, 8) (2, 2) (3, 4) (4, 1) (5, 7) (6, 5) (7, 3) (8, 6)\n",
      "(1, 8) (2, 2) (3, 5) (4, 3) (5, 1) (6, 7) (7, 4) (8, 6)\n",
      "(1, 8) (2, 3) (3, 1) (4, 6) (5, 2) (6, 5) (7, 7) (8, 4)\n",
      "(1, 8) (2, 4) (3, 1) (4, 3) (5, 6) (6, 2) (7, 7) (8, 5)\n"
     ]
    }
   ],
   "source": [
    "def queens(v):\n",
    "    if len(v) == 8:\n",
    "        print(*[i for i in zip(range(1, 9), v)])\n",
    "        return\n",
    "    for i in range(1, 9):\n",
    "        for j in range(len(v)):\n",
    "            if v[j] == i or abs(v[j] - i) == (len(v) - j): break\n",
    "        else: queens(v + [i])\n",
    "queens([])"
   ]
  },
  {
   "cell_type": "code",
   "execution_count": 125,
   "id": "f7d26221",
   "metadata": {
    "scrolled": true
   },
   "outputs": [],
   "source": [
    "BD = {'Olya': 'May 31',\n",
    "      'Egor': 'May 10',\n",
    "      'Lara': 'May 26',\n",
    "      'Aspas': 'May 25',\n",
    "      'Dima': 'May 08',\n",
    "      'Vanya':'May 13',\n",
    "      'Alikey':'May 20'}"
   ]
  },
  {
   "cell_type": "code",
   "execution_count": 135,
   "id": "989b86e1",
   "metadata": {},
   "outputs": [],
   "source": [
    "# МЕТОД ЦЕПОЧЕК\n",
    "class HashTable:\n",
    "    def __init__(self):\n",
    "        self.MAX = 7\n",
    "        self.arr = [[] for i in range(self.MAX)]\n",
    "        \n",
    "    def get_hash(self, key):\n",
    "        h = 0\n",
    "        for char in key:\n",
    "            h += ord(char)\n",
    "        return h % self.MAX\n",
    "    def __setitem__(self, key, value):\n",
    "        h = self.get_hash(key)\n",
    "        found = False\n",
    "        for index, element in enumerate(self.arr[h]):\n",
    "            if len(element)==2 and element[0]==key:\n",
    "                self.arr[h][index] = (key,value)\n",
    "                found=True\n",
    "                break\n",
    "        if not found:\n",
    "            self.arr[h].append((key, value))\n",
    "            \n",
    "    def __getitem__(self, key):\n",
    "        arr_index = self.get_hash(key)\n",
    "        for element in self.arr[arr_index]:\n",
    "            if element[0] == key:\n",
    "                return element[1]\n",
    "    def __delitem__(self, key):\n",
    "        arr_index = self.get_hash(key)\n",
    "        for index, kv in enumerate(self.arr[arr_index]):\n",
    "            if kv[0] == key:\n",
    "                print(\"del\",index)\n",
    "                del self.arr[arr_index][index]"
   ]
  },
  {
   "cell_type": "code",
   "execution_count": 133,
   "id": "b09f03da",
   "metadata": {},
   "outputs": [
    {
     "data": {
      "text/plain": [
       "[[('Aspas', 'May 25')],\n",
       " [],\n",
       " [],\n",
       " [],\n",
       " [],\n",
       " [('Egor', 'May 10'), ('Egro', 'May 76')],\n",
       " [('Lara', 'May 26')]]"
      ]
     },
     "execution_count": 133,
     "metadata": {},
     "output_type": "execute_result"
    }
   ],
   "source": [
    "t = HashTable()\n",
    "t['Egor'] = 'May 10'\n",
    "t['Lara'] = 'May 26'\n",
    "t['Aspas'] = 'May 25'\n",
    "t['Egro'] = 'May 76'\n",
    "t.arr"
   ]
  },
  {
   "cell_type": "code",
   "execution_count": 134,
   "id": "59be6fdb",
   "metadata": {},
   "outputs": [
    {
     "name": "stdout",
     "output_type": "stream",
     "text": [
      "May 10\n",
      "May 76\n"
     ]
    }
   ],
   "source": [
    "print(t['Egor'])\n",
    "print(t['Egro'])"
   ]
  },
  {
   "cell_type": "code",
   "execution_count": 2,
   "id": "5db43a33",
   "metadata": {},
   "outputs": [],
   "source": [
    "# МЕТОД ПРОСТОГО РЕХЭШИРОВАНИЯ\n",
    "class HashTable2:  \n",
    "    def __init__(self):\n",
    "        self.MAX = 10 \n",
    "        self.arr = [None for i in range(self.MAX)]\n",
    "        \n",
    "    def get_hash(self, key):\n",
    "        hash = 0\n",
    "        for char in key:\n",
    "            hash += ord(char)\n",
    "        return hash % self.MAX\n",
    "    \n",
    "    def __getitem__(self, key):\n",
    "        h = self.get_hash(key)\n",
    "        if self.arr[h] is None:\n",
    "            return\n",
    "        prob_range = self.get_prob_range(h)\n",
    "        for prob_index in prob_range:\n",
    "            element = self.arr[prob_index]\n",
    "            if element is None:\n",
    "                return\n",
    "            if element[0] == key:\n",
    "                return element[1]\n",
    "           \n",
    "    def __setitem__(self, key, val):\n",
    "        h = self.get_hash(key)\n",
    "        if self.arr[h] is None:\n",
    "            self.arr[h] = (key,val)\n",
    "        else:\n",
    "            new_h = self.find_slot(key, h)\n",
    "            self.arr[new_h] = (key,val)\n",
    "        print(self.arr)\n",
    "        \n",
    "    def get_prob_range(self, index):\n",
    "        return [*range(index, len(self.arr))] + [*range(0,index)]\n",
    "    \n",
    "    def find_slot(self, key, index):\n",
    "        prob_range = self.get_prob_range(index)\n",
    "        for prob_index in prob_range:\n",
    "            if self.arr[prob_index] is None:\n",
    "                return prob_index\n",
    "            if self.arr[prob_index][0] == key:\n",
    "                return prob_index\n",
    "        raise Exception(\"Hashmap full\")\n",
    "        \n",
    "    def __delitem__(self, key):\n",
    "        h = self.get_hash(key)\n",
    "        prob_range = self.get_prob_range(h)\n",
    "        for prob_index in prob_range:\n",
    "            if self.arr[prob_index] is None:\n",
    "                return # item not found so return. You can also throw exception\n",
    "            if self.arr[prob_index][0] == key:\n",
    "                self.arr[prob_index]=None\n",
    "        print(self.arr)"
   ]
  },
  {
   "cell_type": "code",
   "execution_count": 3,
   "id": "4ab5e180",
   "metadata": {},
   "outputs": [
    {
     "name": "stdout",
     "output_type": "stream",
     "text": [
      "[None, None, None, None, None, None, None, ('Egor', 'May 10'), None, None]\n"
     ]
    }
   ],
   "source": [
    "t = HashTable2()\n",
    "t['Egor'] = 'May 10'"
   ]
  },
  {
   "cell_type": "code",
   "execution_count": 4,
   "id": "831b9770",
   "metadata": {},
   "outputs": [
    {
     "name": "stdout",
     "output_type": "stream",
     "text": [
      "[None, None, None, None, None, None, None, ('Egor', 'May 10'), ('Egro', 'May 76'), None]\n"
     ]
    }
   ],
   "source": [
    "t['Egro'] = 'May 76'"
   ]
  },
  {
   "cell_type": "code",
   "execution_count": 5,
   "id": "083af405",
   "metadata": {},
   "outputs": [
    {
     "name": "stdout",
     "output_type": "stream",
     "text": [
      "[None, None, None, None, None, None, None, ('Egor', 'May 10'), ('Egro', 'May 76'), ('gorE', 'May 22')]\n"
     ]
    }
   ],
   "source": [
    "t['gorE'] = 'May 22'"
   ]
  },
  {
   "cell_type": "code",
   "execution_count": 6,
   "id": "b5a4feee",
   "metadata": {},
   "outputs": [
    {
     "name": "stdout",
     "output_type": "stream",
     "text": [
      "[('gEro', 'May 19'), None, None, None, None, None, None, ('Egor', 'May 10'), ('Egro', 'May 76'), ('gorE', 'May 22')]\n"
     ]
    }
   ],
   "source": [
    "t['gEro'] = 'May 19'"
   ]
  },
  {
   "cell_type": "code",
   "execution_count": 7,
   "id": "e61c4589",
   "metadata": {},
   "outputs": [
    {
     "data": {
      "text/plain": [
       "'May 76'"
      ]
     },
     "execution_count": 7,
     "metadata": {},
     "output_type": "execute_result"
    }
   ],
   "source": [
    "t['Egro']"
   ]
  },
  {
   "cell_type": "code",
   "execution_count": 8,
   "id": "2f6951e4",
   "metadata": {},
   "outputs": [
    {
     "data": {
      "text/plain": [
       "'May 22'"
      ]
     },
     "execution_count": 8,
     "metadata": {},
     "output_type": "execute_result"
    }
   ],
   "source": [
    "t['gorE']"
   ]
  },
  {
   "cell_type": "code",
   "execution_count": 6,
   "id": "4a338062",
   "metadata": {},
   "outputs": [],
   "source": [
    "# РЕХЭШИРОВАНИЕ С ПОМОЩЬЮ ПСЕВДОСЛУЧАЙНЫХ ЧИСЕЛ\n",
    "import random \n",
    "class HashTable3:\n",
    "    def __init__(self):\n",
    "        self.MAX = 50\n",
    "        self.arr = [[] for i in range(self.MAX)]\n",
    "        \n",
    "    def get_hash(self, key):\n",
    "        h = 0\n",
    "        h = random.randint(0, self.MAX-1)\n",
    "        return h \n",
    "    def __setitem__(self, key, value):\n",
    "        h = self.get_hash(key)\n",
    "        found = False\n",
    "        for index, element in enumerate(self.arr[h]):\n",
    "            if len(element)==2 and element[0]==key:\n",
    "                self.arr[h][index] = (key,value)\n",
    "                found=True\n",
    "                break\n",
    "        if not found:\n",
    "            self.arr[h].append((key, value))\n",
    "            \n",
    "    def __getitem__(self, key):\n",
    "        arr_index = self.get_hash(key)\n",
    "        for element in self.arr[arr_index]:\n",
    "            if element[0] == key:\n",
    "                return element[1]\n",
    "    def __delitem__(self, key):\n",
    "        arr_index = self.get_hash(key)\n",
    "        for index, kv in enumerate(self.arr[arr_index]):\n",
    "            if kv[0] == key:\n",
    "                print(\"del\",index)\n",
    "                del self.arr[arr_index][index]"
   ]
  },
  {
   "cell_type": "code",
   "execution_count": 17,
   "id": "9ae48b27",
   "metadata": {
    "scrolled": true
   },
   "outputs": [
    {
     "data": {
      "text/plain": [
       "[[],\n",
       " [('Egro', 'May 76')],\n",
       " [],\n",
       " [],\n",
       " [('Egor', 'May 10'), ('Aspas', 'May 25')],\n",
       " [('Lara', 'May 26')],\n",
       " []]"
      ]
     },
     "execution_count": 17,
     "metadata": {},
     "output_type": "execute_result"
    }
   ],
   "source": [
    "t = HashTable3()\n",
    "t['Egor'] = 'May 10'\n",
    "t['Lara'] = 'May 26'\n",
    "t['Aspas'] = 'May 25'\n",
    "t['Egro'] = 'May 76'\n",
    "t.arr"
   ]
  },
  {
   "cell_type": "code",
   "execution_count": 39,
   "id": "93f201c2",
   "metadata": {
    "scrolled": true
   },
   "outputs": [
    {
     "name": "stdout",
     "output_type": "stream",
     "text": [
      "ID = 5\n",
      "\n",
      "Метод поиска работал: 0.00013469999998960702 секунд\n"
     ]
    }
   ],
   "source": [
    "import timeit\n",
    "starttime = timeit.default_timer()\n",
    "binary_search(array, 7)\n",
    "endtime = timeit.default_timer()\n",
    "print(\"\\nМетод поиска работал:\", endtime - starttime, \"секунд\")"
   ]
  },
  {
   "cell_type": "code",
   "execution_count": 40,
   "id": "fc3b7d5b",
   "metadata": {},
   "outputs": [
    {
     "name": "stdout",
     "output_type": "stream",
     "text": [
      "\n",
      "Метод поиска работал: 6.929999995008984e-05 секунд\n"
     ]
    }
   ],
   "source": [
    "import timeit\n",
    "starttime = timeit.default_timer()\n",
    "FibonacciSearch(array, 7)\n",
    "endtime = timeit.default_timer()\n",
    "print(\"\\nМетод поиска работал:\", endtime - starttime, \"секунд\")"
   ]
  },
  {
   "cell_type": "code",
   "execution_count": 50,
   "id": "ee1cc779",
   "metadata": {},
   "outputs": [
    {
     "name": "stdout",
     "output_type": "stream",
     "text": [
      "Искомого числа в массиве нет\n",
      "\n",
      "Метод поиска работал: 0.0002908999999817752 секунд\n"
     ]
    }
   ],
   "source": [
    "import timeit\n",
    "starttime = timeit.default_timer()\n",
    "InterpolationSearch(array, 1)\n",
    "endtime = timeit.default_timer()\n",
    "print(\"\\nМетод поиска работал:\", endtime - starttime, \"секунд\")"
   ]
  },
  {
   "cell_type": "code",
   "execution_count": 54,
   "id": "24e6e652",
   "metadata": {},
   "outputs": [
    {
     "name": "stdout",
     "output_type": "stream",
     "text": [
      "\n",
      "Метод поиска работал: 0.00021599999990939978 секунд\n"
     ]
    }
   ],
   "source": [
    "import timeit\n",
    "starttime = timeit.default_timer()\n",
    "nums = A\n",
    "ob1 = Solution()\n",
    "bst = ob1.sortedArrayToBST(nums)\n",
    "search_elem = 7\n",
    "search_level_order(bst, search_elem)\n",
    "endtime = timeit.default_timer()\n",
    "print(\"\\nМетод поиска работал:\", endtime - starttime, \"секунд\")"
   ]
  },
  {
   "cell_type": "code",
   "execution_count": null,
   "id": "3ebf0bd5",
   "metadata": {},
   "outputs": [],
   "source": []
  }
 ],
 "metadata": {
  "kernelspec": {
   "display_name": "Python 3 (ipykernel)",
   "language": "python",
   "name": "python3"
  },
  "language_info": {
   "codemirror_mode": {
    "name": "ipython",
    "version": 3
   },
   "file_extension": ".py",
   "mimetype": "text/x-python",
   "name": "python",
   "nbconvert_exporter": "python",
   "pygments_lexer": "ipython3",
   "version": "3.9.7"
  }
 },
 "nbformat": 4,
 "nbformat_minor": 5
}
